{
 "cells": [
  {
   "cell_type": "markdown",
   "metadata": {},
   "source": [
    "\n",
    "# <font color='green'>Working With Lists</font>\n",
    "\n",
    "## Looping Through on Entire List"
   ]
  },
  {
   "cell_type": "code",
   "execution_count": 2,
   "metadata": {},
   "outputs": [
    {
     "name": "stdout",
     "output_type": "stream",
     "text": [
      "alice\n",
      "david\n",
      "caroline\n"
     ]
    }
   ],
   "source": [
    "magicians = ['alice','david','caroline']\n",
    "for magician in magicians:\n",
    "    print(magician)"
   ]
  },
  {
   "cell_type": "markdown",
   "metadata": {},
   "source": [
    "## Doing More Work Within a for Loop"
   ]
  },
  {
   "cell_type": "code",
   "execution_count": 4,
   "metadata": {},
   "outputs": [
    {
     "name": "stdout",
     "output_type": "stream",
     "text": [
      "Alice, that was a great trick\n",
      "I can't wait to see your next trick, Alice.\n",
      "\n",
      "David, that was a great trick\n",
      "I can't wait to see your next trick, David.\n",
      "\n",
      "Caroline, that was a great trick\n",
      "I can't wait to see your next trick, Caroline.\n",
      "\n",
      "Thank you everyone. That was a great magic show\n"
     ]
    }
   ],
   "source": [
    "magicians =['alice','david','caroline']\n",
    "for magician in magicians:\n",
    "    print(magician.title() + \", that was a great trick\")\n",
    "    print(\"I can't wait to see your next trick, \" + magician.title() + \".\\n\")\n",
    "print(\"Thank you everyone. That was a great magic show\")"
   ]
  },
  {
   "cell_type": "markdown",
   "metadata": {},
   "source": [
    "### Exercise: 4.1"
   ]
  },
  {
   "cell_type": "code",
   "execution_count": 7,
   "metadata": {},
   "outputs": [
    {
     "name": "stdout",
     "output_type": "stream",
     "text": [
      "I love Cheese pizza\n",
      "I love Beef pizza\n",
      "I love Pepparoni pizza\n",
      "I love Onion pizza\n",
      "I really love pizza\n"
     ]
    }
   ],
   "source": [
    "pizzas = ['cheese','beef','pepparoni','onion']\n",
    "for pizza in pizzas:\n",
    "    print(\"I love \" +pizza.title()+ \" pizza\")\n",
    "print(\"I really love pizza\")"
   ]
  },
  {
   "cell_type": "markdown",
   "metadata": {},
   "source": [
    "### Exercise: 4.2"
   ]
  },
  {
   "cell_type": "code",
   "execution_count": 10,
   "metadata": {},
   "outputs": [
    {
     "name": "stdout",
     "output_type": "stream",
     "text": [
      "A Dog would make a great pet!\n",
      "A Cat would make a great pet!\n",
      "A Bird would make a great pet!\n",
      "Any of these animals would make a great pet\n"
     ]
    }
   ],
   "source": [
    "animals = ['dog','cat','bird']\n",
    "for animal in animals:\n",
    "    print(\"A \" + animal.title() + \" would make a great pet!\")\n",
    "print(\"Any of these animals would make a great pet\")"
   ]
  },
  {
   "cell_type": "markdown",
   "metadata": {},
   "source": [
    "## Making Numerical List"
   ]
  },
  {
   "cell_type": "code",
   "execution_count": 11,
   "metadata": {},
   "outputs": [
    {
     "name": "stdout",
     "output_type": "stream",
     "text": [
      "1\n",
      "2\n",
      "3\n",
      "4\n"
     ]
    }
   ],
   "source": [
    "for value in range(1,5):\n",
    "    print(value)"
   ]
  },
  {
   "cell_type": "markdown",
   "metadata": {},
   "source": [
    "## Using range() to Make a List of Numbers"
   ]
  },
  {
   "cell_type": "code",
   "execution_count": 12,
   "metadata": {},
   "outputs": [
    {
     "name": "stdout",
     "output_type": "stream",
     "text": [
      "[0, 1, 2, 3, 4, 5, 6, 7, 8, 9]\n"
     ]
    }
   ],
   "source": [
    "numbers = list(range(10))\n",
    "print(numbers)"
   ]
  },
  {
   "cell_type": "code",
   "execution_count": 13,
   "metadata": {},
   "outputs": [
    {
     "name": "stdout",
     "output_type": "stream",
     "text": [
      "[2, 4, 6, 8, 10, 12, 14, 16, 18, 20]\n"
     ]
    }
   ],
   "source": [
    "#Even Numbers\n",
    "numbers = list(range(2,21,2))\n",
    "print(numbers)"
   ]
  },
  {
   "cell_type": "code",
   "execution_count": 14,
   "metadata": {},
   "outputs": [
    {
     "name": "stdout",
     "output_type": "stream",
     "text": [
      "[1, 4, 9, 16, 25, 36, 49, 64, 81, 100]\n"
     ]
    }
   ],
   "source": [
    "#Squares\n",
    "squares = []\n",
    "for value in range(1,11):\n",
    "    square = value ** 2\n",
    "    squares.append(square)\n",
    "print(squares)\n"
   ]
  },
  {
   "cell_type": "code",
   "execution_count": 15,
   "metadata": {},
   "outputs": [
    {
     "name": "stdout",
     "output_type": "stream",
     "text": [
      "[1, 4, 9, 16, 25, 36, 49, 64, 81, 100]\n"
     ]
    }
   ],
   "source": [
    "squares = []\n",
    "for value in range(1,11):\n",
    "    squares.append(value ** 2)\n",
    "print(squares)"
   ]
  },
  {
   "cell_type": "markdown",
   "metadata": {},
   "source": [
    "## Simple Statistics with a List of Numbers"
   ]
  },
  {
   "cell_type": "code",
   "execution_count": 18,
   "metadata": {},
   "outputs": [
    {
     "name": "stdout",
     "output_type": "stream",
     "text": [
      "890\n",
      "1\n",
      "1033\n"
     ]
    }
   ],
   "source": [
    "digits = [1,2,3,1,46,890,12,35,43]\n",
    "\n",
    "print(max(digits))\n",
    "print(min(digits))\n",
    "print(sum(digits))"
   ]
  },
  {
   "cell_type": "markdown",
   "metadata": {},
   "source": [
    "## List Comprehensions"
   ]
  },
  {
   "cell_type": "code",
   "execution_count": 19,
   "metadata": {},
   "outputs": [
    {
     "name": "stdout",
     "output_type": "stream",
     "text": [
      "[1, 4, 9, 16, 25, 36, 49, 64, 81, 100]\n"
     ]
    }
   ],
   "source": [
    "squares = [value**2 for value in range(1,11)]\n",
    "print(squares)"
   ]
  },
  {
   "cell_type": "markdown",
   "metadata": {},
   "source": [
    "### Exercise: 4.3"
   ]
  },
  {
   "cell_type": "code",
   "execution_count": 3,
   "metadata": {},
   "outputs": [
    {
     "name": "stdout",
     "output_type": "stream",
     "text": [
      "0\n",
      "1\n",
      "2\n",
      "3\n",
      "4\n",
      "5\n",
      "6\n",
      "7\n",
      "8\n",
      "9\n",
      "10\n",
      "11\n",
      "12\n",
      "13\n",
      "14\n",
      "15\n",
      "16\n",
      "17\n",
      "18\n",
      "19\n",
      "20\n"
     ]
    }
   ],
   "source": [
    "#counting to twenty\n",
    "for value in range(21):\n",
    "    print(value)"
   ]
  },
  {
   "cell_type": "markdown",
   "metadata": {},
   "source": [
    "### Exercise: 4.6"
   ]
  },
  {
   "cell_type": "code",
   "execution_count": 7,
   "metadata": {},
   "outputs": [
    {
     "name": "stdout",
     "output_type": "stream",
     "text": [
      "1\n",
      "3\n",
      "5\n",
      "7\n",
      "9\n",
      "11\n",
      "13\n",
      "15\n",
      "17\n",
      "19\n"
     ]
    }
   ],
   "source": [
    "#odd Numbers\n",
    "for number in range(1,20,2):\n",
    "    print(number)"
   ]
  },
  {
   "cell_type": "markdown",
   "metadata": {},
   "source": [
    "### Exercise: 4.7"
   ]
  },
  {
   "cell_type": "code",
   "execution_count": 13,
   "metadata": {},
   "outputs": [
    {
     "name": "stdout",
     "output_type": "stream",
     "text": [
      "[9, 12, 15, 18, 21, 24, 27, 30, 33, 36, 39, 42, 45, 48, 51, 54, 57, 60, 63, 66, 69, 72, 75, 78, 81, 84, 87]\n"
     ]
    }
   ],
   "source": [
    "#Threes\n",
    "threes=[]\n",
    "for three in range(3,30):\n",
    "    threes.append(three*3)\n",
    "print(threes)"
   ]
  },
  {
   "cell_type": "markdown",
   "metadata": {},
   "source": [
    "### Exercise: 4.8"
   ]
  },
  {
   "cell_type": "code",
   "execution_count": 9,
   "metadata": {},
   "outputs": [
    {
     "name": "stdout",
     "output_type": "stream",
     "text": [
      "[1, 8, 27, 64, 125, 216, 343, 512, 729]\n"
     ]
    }
   ],
   "source": [
    "#Cubes\n",
    "cubes = []\n",
    "for cube in range(1,10):\n",
    "    cubes.append(cube**3)\n",
    "print(cubes)"
   ]
  },
  {
   "cell_type": "markdown",
   "metadata": {},
   "source": [
    "### Exercise: 4.9"
   ]
  },
  {
   "cell_type": "code",
   "execution_count": 14,
   "metadata": {},
   "outputs": [
    {
     "name": "stdout",
     "output_type": "stream",
     "text": [
      "[1, 8, 27, 64, 125, 216, 343, 512, 729]\n"
     ]
    }
   ],
   "source": [
    "#cube Comprehension\n",
    "cubes = [cube**3 for cube in range(1,10)]\n",
    "print(cubes)"
   ]
  },
  {
   "cell_type": "markdown",
   "metadata": {},
   "source": [
    "   # <font color='green'>Working with Part of a List</font>"
   ]
  },
  {
   "cell_type": "markdown",
   "metadata": {},
   "source": [
    "## Slicing a list"
   ]
  },
  {
   "cell_type": "code",
   "execution_count": 16,
   "metadata": {},
   "outputs": [
    {
     "name": "stdout",
     "output_type": "stream",
     "text": [
      "['chalrs', 'martin', 'carlos']\n"
     ]
    }
   ],
   "source": [
    "players = ['chalrs','martin','carlos','hidden','ali','max']\n",
    "print(players[0:3])"
   ]
  },
  {
   "cell_type": "code",
   "execution_count": 17,
   "metadata": {},
   "outputs": [
    {
     "name": "stdout",
     "output_type": "stream",
     "text": [
      "['martin', 'carlos', 'hidden']\n"
     ]
    }
   ],
   "source": [
    "players = ['chalrs','martin','carlos','hidden','ali','max']\n",
    "print(players[1:4])"
   ]
  },
  {
   "cell_type": "code",
   "execution_count": 19,
   "metadata": {},
   "outputs": [
    {
     "name": "stdout",
     "output_type": "stream",
     "text": [
      "['chalrs', 'martin', 'carlos', 'hidden']\n"
     ]
    }
   ],
   "source": [
    "players = ['chalrs','martin','carlos','hidden','ali','max']\n",
    "print(players[:4])"
   ]
  },
  {
   "cell_type": "code",
   "execution_count": 20,
   "metadata": {},
   "outputs": [
    {
     "name": "stdout",
     "output_type": "stream",
     "text": [
      "['carlos', 'hidden', 'ali', 'max']\n"
     ]
    }
   ],
   "source": [
    "players = ['chalrs','martin','carlos','hidden','ali','max']\n",
    "print(players[2:])"
   ]
  },
  {
   "cell_type": "code",
   "execution_count": 21,
   "metadata": {},
   "outputs": [
    {
     "name": "stdout",
     "output_type": "stream",
     "text": [
      "['hidden', 'ali', 'max']\n"
     ]
    }
   ],
   "source": [
    "players = ['chalrs','martin','carlos','hidden','ali','max']\n",
    "print(players[-3:])"
   ]
  },
  {
   "cell_type": "code",
   "execution_count": 22,
   "metadata": {},
   "outputs": [
    {
     "name": "stdout",
     "output_type": "stream",
     "text": [
      "['chalrs', 'martin', 'carlos']\n"
     ]
    }
   ],
   "source": [
    "players = ['chalrs','martin','carlos','hidden','ali','max']\n",
    "print(players[:-3])"
   ]
  },
  {
   "cell_type": "markdown",
   "metadata": {},
   "source": [
    "## Looping Through a Slice"
   ]
  },
  {
   "cell_type": "code",
   "execution_count": 23,
   "metadata": {},
   "outputs": [
    {
     "name": "stdout",
     "output_type": "stream",
     "text": [
      "Here are the first three player in my team\n",
      "Chalrs\n",
      "Martin\n",
      "Carlos\n"
     ]
    }
   ],
   "source": [
    "players = ['chalrs','martin','carlos','hidden','ali','max']\n",
    "print(\"Here are the first three player in my team\")\n",
    "for player in players[:3]:\n",
    "    print(player.title())"
   ]
  },
  {
   "cell_type": "markdown",
   "metadata": {},
   "source": [
    "## Copying a List"
   ]
  },
  {
   "cell_type": "code",
   "execution_count": 26,
   "metadata": {},
   "outputs": [
    {
     "name": "stdout",
     "output_type": "stream",
     "text": [
      "My favorite foods are:\n",
      "['pizza', 'burger', 'noodles', 'cake']\n",
      "My friend's favorite foods are:\n",
      "['pizza', 'burger', 'noodles', 'cake']\n"
     ]
    }
   ],
   "source": [
    "my_foods = ['pizza','burger','noodles','cake']\n",
    "friend_foods = my_foods[:]\n",
    "\n",
    "print(\"My favorite foods are:\")\n",
    "print(my_foods)\n",
    "\n",
    "print(\"My friend's favorite foods are:\")\n",
    "print(friend_foods)"
   ]
  },
  {
   "cell_type": "code",
   "execution_count": 29,
   "metadata": {},
   "outputs": [
    {
     "name": "stdout",
     "output_type": "stream",
     "text": [
      "My foods are:\n",
      "['pizza', 'burger', 'noodles', 'cake', 'cannol']\n",
      "My frd foods are:\n",
      "['pizza', 'burger', 'noodles', 'cake', 'ice cream']\n"
     ]
    }
   ],
   "source": [
    "my_foods = ['pizza','burger','noodles','cake']\n",
    "friend_foods = my_foods[:] #if we don't use slice ([:]) here, it would not produce two separate lists.\n",
    "\n",
    "my_foods.append('cannol')\n",
    "friend_foods.append('ice cream')\n",
    "\n",
    "print(\"My foods are:\")\n",
    "print(my_foods)\n",
    "\n",
    "print(\"My frd foods are:\")\n",
    "print(friend_foods)\n"
   ]
  },
  {
   "cell_type": "markdown",
   "metadata": {},
   "source": [
    "### Exercise: 4.10"
   ]
  },
  {
   "cell_type": "code",
   "execution_count": 30,
   "metadata": {},
   "outputs": [
    {
     "name": "stdout",
     "output_type": "stream",
     "text": [
      "First three items in the list are:\n",
      "['pizza', 'burger', 'noodles']\n",
      "Three items from the middle of the list are:\n",
      "['noodles', 'cake', 'pasta']\n",
      "The last three items in the list are:\n",
      "['pizza', 'burger', 'noodles']\n"
     ]
    }
   ],
   "source": [
    "#Slices\n",
    "\n",
    "my_foods = ['pizza','burger','noodles','cake','pasta','soup']\n",
    "friend_foods = my_foods[:]\n",
    "\n",
    "print(\"First three items in the list are:\")\n",
    "print(my_foods[:3])\n",
    "\n",
    "print(\"Three items from the middle of the list are:\")\n",
    "print(my_foods[2:5])\n",
    "\n",
    "print(\"The last three items in the list are:\")\n",
    "print(my_foods[:-3])"
   ]
  },
  {
   "cell_type": "markdown",
   "metadata": {},
   "source": [
    "### Exercise: 4.11"
   ]
  },
  {
   "cell_type": "code",
   "execution_count": 31,
   "metadata": {},
   "outputs": [
    {
     "name": "stdout",
     "output_type": "stream",
     "text": [
      "My fvrt pizzas are:\n",
      "Cheese\n",
      "Beef\n",
      "Pepparoni\n",
      "Onion\n",
      "Maxican\n",
      "Vegitable\n",
      "My frd fvrt pizzas are:\n",
      "Cheese\n",
      "Beef\n",
      "Pepparoni\n",
      "Onion\n",
      "Maxican\n",
      "Italian\n"
     ]
    }
   ],
   "source": [
    "#My pizzas, Your Pizzas\n",
    "\n",
    "my_pizzas = ['cheese','beef','pepparoni','onion','maxican']\n",
    "friend_pizzas = my_pizzas[:]\n",
    "\n",
    "my_pizzas.append(\"vegitable\")\n",
    "friend_pizzas.append(\"italian\")\n",
    "\n",
    "print(\"My fvrt pizzas are:\")\n",
    "for my_pizza in my_pizzas:\n",
    "    print(my_pizza.title())\n",
    "\n",
    "print(\"My frd fvrt pizzas are:\")\n",
    "for friend_pizza in friend_pizzas:\n",
    "    print(friend_pizza.title())\n"
   ]
  },
  {
   "cell_type": "code",
   "execution_count": null,
   "metadata": {},
   "outputs": [],
   "source": []
  }
 ],
 "metadata": {
  "kernelspec": {
   "display_name": "Python 3",
   "language": "python",
   "name": "python3"
  },
  "language_info": {
   "codemirror_mode": {
    "name": "ipython",
    "version": 3
   },
   "file_extension": ".py",
   "mimetype": "text/x-python",
   "name": "python",
   "nbconvert_exporter": "python",
   "pygments_lexer": "ipython3",
   "version": "3.7.3"
  }
 },
 "nbformat": 4,
 "nbformat_minor": 2
}
