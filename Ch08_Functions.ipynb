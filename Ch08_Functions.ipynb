{
 "cells": [
  {
   "cell_type": "markdown",
   "metadata": {},
   "source": [
    "# <font color='green'>Defining a Function<font>\n",
    "    "
   ]
  },
  {
   "cell_type": "markdown",
   "metadata": {},
   "source": [
    "## Passing Information to a Funtion"
   ]
  },
  {
   "cell_type": "code",
   "execution_count": 12,
   "metadata": {},
   "outputs": [
    {
     "name": "stdout",
     "output_type": "stream",
     "text": [
      "Hello, Edward!\n"
     ]
    }
   ],
   "source": [
    "def greet_user(username):\n",
    "    \"\"\"Display a simple greeting\"\"\" # The text is a comment docstring,which descirbes what the function does.\n",
    "                                    # Docstrings are enclosed in triple quotes.\n",
    "    print(\"Hello, \" + username.title() + \"!\")\n",
    "greet_user('Edward')"
   ]
  },
  {
   "cell_type": "markdown",
   "metadata": {},
   "source": [
    "### Arguments and Parameters\n",
    "The variable <font color='red'>username</font> in the definition of greet_user() is an example of a <font color='red'>parameter</font>, a piece of information the funstion needs to do its job. The value 'Farhad' in a greet_user() is an example of an <font color='red'>argument</font>. An argument is a piece of information that is passed from a function call to a function. When we call the function, we place the value we want the function to work with in parentheses. In this case the argument 'Edward' was passed to the function greet_user(), and the value was stored in the parameter <i>username</i>."
   ]
  },
  {
   "cell_type": "markdown",
   "metadata": {},
   "source": [
    "### Exercise: 8.1"
   ]
  },
  {
   "cell_type": "code",
   "execution_count": 6,
   "metadata": {},
   "outputs": [
    {
     "name": "stdout",
     "output_type": "stream",
     "text": [
      "What we are learning in this chapter.\n"
     ]
    }
   ],
   "source": [
    "#Message\n",
    "def display_message():\n",
    "    print(\"What we are learning in this chapter.\")\n",
    "display_message()"
   ]
  },
  {
   "cell_type": "markdown",
   "metadata": {},
   "source": [
    "### Exercise: 8.2 "
   ]
  },
  {
   "cell_type": "code",
   "execution_count": 8,
   "metadata": {},
   "outputs": [
    {
     "name": "stdout",
     "output_type": "stream",
     "text": [
      "One of my favorite book is Alice in Wonderland.\n"
     ]
    }
   ],
   "source": [
    "# Favorite Book\n",
    "def favorite_book(title):\n",
    "    print(\"One of my favorite book is \" + title +\".\")\n",
    "favorite_book(\"Alice in Wonderland\")"
   ]
  },
  {
   "cell_type": "markdown",
   "metadata": {},
   "source": [
    "# <font color='green'>Passing Arguments</font>"
   ]
  },
  {
   "cell_type": "markdown",
   "metadata": {},
   "source": [
    "## Positional Arguments"
   ]
  },
  {
   "cell_type": "code",
   "execution_count": 10,
   "metadata": {},
   "outputs": [
    {
     "name": "stdout",
     "output_type": "stream",
     "text": [
      "\n",
      "I have a cat.\n",
      "My cat's name is Catty.\n"
     ]
    }
   ],
   "source": [
    "def describe_pet(animal_type,pet_name):\n",
    "    \"\"\"Display information about a pet.\"\"\"\n",
    "    print(\"\\nI have a \" + animal_type + \".\")\n",
    "    print(\"My \" + animal_type + \"'s name is \" + pet_name.title() + \".\")\n",
    "describe_pet('cat','catty')"
   ]
  },
  {
   "cell_type": "markdown",
   "metadata": {},
   "source": [
    "## Multiple Function Calls"
   ]
  },
  {
   "cell_type": "code",
   "execution_count": 11,
   "metadata": {},
   "outputs": [
    {
     "name": "stdout",
     "output_type": "stream",
     "text": [
      "\n",
      "I have a cat.\n",
      "My cat's name is Catty.\n",
      "\n",
      "I have a dog.\n",
      "My dog's name is Bullet.\n"
     ]
    }
   ],
   "source": [
    "def describe_pet(animal_type,pet_name):\n",
    "    \"\"\"Display information about a pet.\"\"\"\n",
    "    print(\"\\nI have a \" + animal_type + \".\")\n",
    "    print(\"My \" + animal_type + \"'s name is \" + pet_name.title() + \".\")\n",
    "describe_pet('cat','catty')\n",
    "describe_pet('dog','bullet')"
   ]
  },
  {
   "cell_type": "markdown",
   "metadata": {},
   "source": [
    "<b>You can use as many positional arguments as you need in your function. Python works through the arguments you provide when calling the function and matches each one with the corresponding parameter in the function's definition</b>"
   ]
  },
  {
   "cell_type": "markdown",
   "metadata": {},
   "source": [
    "## Order Matters in Positional Arguments\n",
    "You can get unexpected result if you mix up the order of the arguments in a function caal when using positional argument."
   ]
  },
  {
   "cell_type": "code",
   "execution_count": 13,
   "metadata": {},
   "outputs": [
    {
     "name": "stdout",
     "output_type": "stream",
     "text": [
      "\n",
      "I have a cattty.\n",
      "My cattty's name is Cat.\n"
     ]
    }
   ],
   "source": [
    "def describe_pet(animal_type,pet_name):\n",
    "    \"\"\"Display information about a pet.\"\"\"\n",
    "    print(\"\\nI have a \" + animal_type + \".\")\n",
    "    print(\"My \" + animal_type + \"'s name is \" + pet_name.title() + \".\")\n",
    "describe_pet('cattty','cat')"
   ]
  },
  {
   "cell_type": "markdown",
   "metadata": {},
   "source": [
    "## Keyword Arguments\n",
    "We directly associate the name and the value within the argument, so when we pass the argument to the function there's no confusion.\n",
    "Note: When you use the argument, be sure to use the exact names of the parameters in the functions definition."
   ]
  },
  {
   "cell_type": "code",
   "execution_count": 1,
   "metadata": {},
   "outputs": [
    {
     "name": "stdout",
     "output_type": "stream",
     "text": [
      "\n",
      "I have a Cat.\n",
      "My pet name is catty.\n"
     ]
    }
   ],
   "source": [
    "def describe_pet(animal_type, pet_name):\n",
    "    \"\"\"Display information about a pet.\"\"\"\n",
    "    print(\"\\nI have a \" + animal_type + \".\")\n",
    "    print(\"My pet name is \" + pet_name + \".\")\n",
    "describe_pet(animal_type='Cat',pet_name='catty')"
   ]
  },
  {
   "cell_type": "markdown",
   "metadata": {},
   "source": [
    "## Default Values"
   ]
  },
  {
   "cell_type": "code",
   "execution_count": 3,
   "metadata": {},
   "outputs": [
    {
     "name": "stdout",
     "output_type": "stream",
     "text": [
      "cat\n",
      "catty\n"
     ]
    }
   ],
   "source": [
    "def describe_pet(pet_name,animal_type='cat'): #Use default value and it always use after all the parameters that don't have any default values.\n",
    "    print(animal_type)\n",
    "    print(pet_name)\n",
    "describe_pet(\"catty\")"
   ]
  },
  {
   "cell_type": "markdown",
   "metadata": {},
   "source": [
    "## Avoiding Arguments Errors"
   ]
  },
  {
   "cell_type": "code",
   "execution_count": 5,
   "metadata": {},
   "outputs": [
    {
     "ename": "TypeError",
     "evalue": "describe_pet() missing 1 required positional argument: 'pet_name'",
     "output_type": "error",
     "traceback": [
      "\u001b[1;31m---------------------------------------------------------------------------\u001b[0m",
      "\u001b[1;31mTypeError\u001b[0m                                 Traceback (most recent call last)",
      "\u001b[1;32m<ipython-input-5-50c2729a9e8e>\u001b[0m in \u001b[0;36m<module>\u001b[1;34m\u001b[0m\n\u001b[0;32m      3\u001b[0m     \u001b[0mprint\u001b[0m\u001b[1;33m(\u001b[0m\u001b[1;34m\"\\nI have a \"\u001b[0m \u001b[1;33m+\u001b[0m \u001b[0manimal_type\u001b[0m \u001b[1;33m+\u001b[0m \u001b[1;34m\".\"\u001b[0m\u001b[1;33m)\u001b[0m\u001b[1;33m\u001b[0m\u001b[1;33m\u001b[0m\u001b[0m\n\u001b[0;32m      4\u001b[0m     \u001b[0mprint\u001b[0m\u001b[1;33m(\u001b[0m\u001b[1;34m\"My pet name is \"\u001b[0m \u001b[1;33m+\u001b[0m \u001b[0mpet_name\u001b[0m \u001b[1;33m+\u001b[0m \u001b[1;34m\".\"\u001b[0m\u001b[1;33m)\u001b[0m\u001b[1;33m\u001b[0m\u001b[1;33m\u001b[0m\u001b[0m\n\u001b[1;32m----> 5\u001b[1;33m \u001b[0mdescribe_pet\u001b[0m\u001b[1;33m(\u001b[0m\u001b[1;33m)\u001b[0m\u001b[1;33m\u001b[0m\u001b[1;33m\u001b[0m\u001b[0m\n\u001b[0m\u001b[0;32m      6\u001b[0m \u001b[1;33m\u001b[0m\u001b[0m\n\u001b[0;32m      7\u001b[0m \u001b[1;31m# Python recognizes that some iformation is missing from the function call, and the traceback tells us that:\u001b[0m\u001b[1;33m\u001b[0m\u001b[1;33m\u001b[0m\u001b[1;33m\u001b[0m\u001b[0m\n",
      "\u001b[1;31mTypeError\u001b[0m: describe_pet() missing 1 required positional argument: 'pet_name'"
     ]
    }
   ],
   "source": [
    "def describe_pet(pet_name,animal_type='cat'):\n",
    "    \"\"\"Display information about a pet.\"\"\"\n",
    "    print(\"\\nI have a \" + animal_type + \".\")\n",
    "    print(\"My pet name is \" + pet_name + \".\")\n",
    "describe_pet()\n",
    "\n",
    "# Python recognizes that some iformation is missing from the function call, and the traceback tells us that:"
   ]
  },
  {
   "cell_type": "markdown",
   "metadata": {},
   "source": [
    "### Exercise: 8.3"
   ]
  },
  {
   "cell_type": "code",
   "execution_count": 13,
   "metadata": {},
   "outputs": [
    {
     "name": "stdout",
     "output_type": "stream",
     "text": [
      "\n",
      "The size of the shirt: mediuam\n",
      "Message is: Go ahead\n",
      "\n",
      "The size of the shirt: large\n",
      "Message is: treat De\n"
     ]
    }
   ],
   "source": [
    "#T-Shirt\n",
    "\n",
    "def make_shirt(size,message):\n",
    "    print(\"\\nThe size of the shirt: \" + size)\n",
    "    print(\"Message is: \" + message)\n",
    "make_shirt('mediuam','Go ahead')\n",
    "make_shirt(size='large',message='treat De')"
   ]
  },
  {
   "cell_type": "markdown",
   "metadata": {},
   "source": [
    "### Exercise: 8.4"
   ]
  },
  {
   "cell_type": "code",
   "execution_count": 10,
   "metadata": {},
   "outputs": [
    {
     "name": "stdout",
     "output_type": "stream",
     "text": [
      "\n",
      "The size of the shirt: large\n",
      "Message is: I love python\n",
      "\n",
      "The size of the shirt: medium\n",
      "Message is: I love python\n",
      "\n",
      "The size of the shirt: small\n",
      "Message is: Go for programming\n"
     ]
    }
   ],
   "source": [
    "#Large Shirts\n",
    "\n",
    "def make_shirt(message='I love python',size='large'):\n",
    "    print(\"\\nThe size of the shirt: \" + size)\n",
    "    print(\"Message is: \" + message)\n",
    "\n",
    "make_shirt()\n",
    "make_shirt(size='medium')\n",
    "make_shirt(message='Go for programming',size='small')\n"
   ]
  },
  {
   "cell_type": "markdown",
   "metadata": {},
   "source": [
    "### Exercise: 8.5"
   ]
  },
  {
   "cell_type": "code",
   "execution_count": 17,
   "metadata": {},
   "outputs": [
    {
     "name": "stdout",
     "output_type": "stream",
     "text": [
      "Dhaka is in Bangladesh\n",
      "Gazipur is in Bangladesh\n",
      "beijin is in China\n"
     ]
    }
   ],
   "source": [
    "#Cities\n",
    "\n",
    "def describe_city(city,country='Bangladesh'):\n",
    "    print(city + \" is in \" + country)\n",
    "    \n",
    "describe_city(city='Dhaka')\n",
    "describe_city(city='Gazipur')\n",
    "describe_city('beijin','China')\n"
   ]
  },
  {
   "cell_type": "markdown",
   "metadata": {},
   "source": [
    "# <font color='green'>Return Values</font>"
   ]
  },
  {
   "cell_type": "markdown",
   "metadata": {},
   "source": [
    "## Returning a simple Value\n",
    "The return statement takes a value from inside a function and sends it back to the line that called the function."
   ]
  },
  {
   "cell_type": "code",
   "execution_count": 21,
   "metadata": {},
   "outputs": [
    {
     "name": "stdout",
     "output_type": "stream",
     "text": [
      "Ayub Bacchu\n"
     ]
    }
   ],
   "source": [
    "def get_formatted_name(first_name,last_name):\n",
    "    '''Return a full name, neatly formatted'''\n",
    "    full_name = first_name + \" \" + last_name\n",
    "    return full_name.title()                       # Return values\n",
    "musician = get_formatted_name('ayub','bacchu')\n",
    "print(musician)"
   ]
  },
  {
   "cell_type": "markdown",
   "metadata": {},
   "source": [
    "## Making an Argument Optional\n",
    "Sometimes it makes sense to make an argument optional so that people using the function can choose to provide extra information only if they want to. We can use default values to make an argument optional"
   ]
  },
  {
   "cell_type": "code",
   "execution_count": 22,
   "metadata": {},
   "outputs": [
    {
     "name": "stdout",
     "output_type": "stream",
     "text": [
      "A R Rahman\n"
     ]
    }
   ],
   "source": [
    "def get_formatted_name(first_name,middle_name,last_name):\n",
    "    \"\"\"Return a full name, neatly formatted.\"\"\"\n",
    "    full_name = first_name + ' ' + middle_name + ' ' + last_name\n",
    "    return full_name.title()\n",
    "musician = get_formatted_name('a','r','rahman')\n",
    "print(musician)"
   ]
  },
  {
   "cell_type": "markdown",
   "metadata": {},
   "source": [
    "But middle name aren't always needed, and this function as written would not work if you tried to call it wih only a first name and a last name. Now we do this more flexible"
   ]
  },
  {
   "cell_type": "code",
   "execution_count": 33,
   "metadata": {},
   "outputs": [
    {
     "name": "stdout",
     "output_type": "stream",
     "text": [
      "Asif Rahman\n",
      "A Rahman R\n"
     ]
    }
   ],
   "source": [
    "def get_formatted_name(first_name,last_name,middle_name=''): #The middle name is optional, so it's listed last in the definition,\n",
    "    \"\"\"Return a full name, neatly formatted.\"\"\"              #and it's default value is an empty string.\n",
    "    if middle_name:\n",
    "        full_name = first_name + ' ' + middle_name + ' ' + last_name\n",
    "    else:\n",
    "        full_name = first_name + ' ' + last_name\n",
    "    return full_name.title()\n",
    "\n",
    "musician = get_formatted_name('asif','rahman')\n",
    "print(musician)\n",
    "\n",
    "musician = get_formatted_name('a','r','rahman')\n",
    "print(musician)\n"
   ]
  },
  {
   "cell_type": "markdown",
   "metadata": {},
   "source": [
    "## Returning a Dictionary\n",
    "A function can return any type of value you need it to, including more complicated data structure like lists and dictionaries."
   ]
  },
  {
   "cell_type": "code",
   "execution_count": 4,
   "metadata": {},
   "outputs": [
    {
     "name": "stdout",
     "output_type": "stream",
     "text": [
      "{'first': 'firstname', 'last': 'last_name'}\n"
     ]
    }
   ],
   "source": [
    "def build_person(first_name,last_name):\n",
    "    \"\"\"Return a dictionary of information about a person\"\"\"\n",
    "    person = {'first' : 'firstname','last' : 'last_name'}\n",
    "    return person\n",
    "musician = build_person('ayub','bacchu')\n",
    "print(musician)"
   ]
  },
  {
   "cell_type": "code",
   "execution_count": 5,
   "metadata": {},
   "outputs": [
    {
     "name": "stdout",
     "output_type": "stream",
     "text": [
      "{'first': 'first_name', 'last': 'last_name', 'age': 27}\n"
     ]
    }
   ],
   "source": [
    "def build_person(firt_name,last_name,age=''): #You can easily extend this function to accept optional value like age, occupation\n",
    "    person = {'first':'first_name', 'last':'last_name'}\n",
    "    if age:\n",
    "        person['age'] = age\n",
    "    return person\n",
    "musician = build_person('ayub','bacchu',age=27)\n",
    "print(musician)"
   ]
  },
  {
   "cell_type": "markdown",
   "metadata": {},
   "source": [
    "## Using a Function with a While Loop"
   ]
  },
  {
   "cell_type": "code",
   "execution_count": null,
   "metadata": {},
   "outputs": [
    {
     "name": "stdout",
     "output_type": "stream",
     "text": [
      "\n",
      "Please enter your name: \n",
      "First name: Farhad\n",
      "Last name: Tanveer\n",
      "Farhad Tanveer\n",
      "\n",
      "Please enter your name: \n",
      "First name: Edwar\n",
      "Last name: junior\n",
      "Edwar Junior\n",
      "\n",
      "Please enter your name: \n"
     ]
    }
   ],
   "source": [
    "def get_formatted_name(first_name,last_name):\n",
    "    full_name = first_name + \" \" + last_name\n",
    "    return full_name.title()\n",
    "\n",
    "#This is an infinite loop!\n",
    "while True:\n",
    "    print(\"\\nPlease enter your name: \")\n",
    "    f_name = input(\"First name: \")\n",
    "    l_name = input(\"Last name: \")\n",
    "    \n",
    "    formatted_name = get_formatted_name(f_name,l_name)\n",
    "    print(formatted_name)"
   ]
  },
  {
   "cell_type": "markdown",
   "metadata": {},
   "source": [
    "We want the user to be able to quit as easily as possible, so each promt should offer a wy to quit. The <b>'break' statement</b> offers a stright-forward way to exit the loop at either prompt:"
   ]
  },
  {
   "cell_type": "code",
   "execution_count": 1,
   "metadata": {},
   "outputs": [
    {
     "name": "stdout",
     "output_type": "stream",
     "text": [
      "\n",
      "Please tell me your name: \n",
      "enter 'q' at any time to quit\n",
      "First name: Farhad\n",
      "Last name: Tanveer\n",
      "Farhad Tanveer\n",
      "\n",
      "Please tell me your name: \n",
      "enter 'q' at any time to quit\n",
      "First name: q\n"
     ]
    }
   ],
   "source": [
    "def get_formatted_name(first_name,last_name):\n",
    "    full_name = first_name + ' ' + last_name\n",
    "    return full_name.title()\n",
    "while True:\n",
    "    print(\"\\nPlease tell me your name: \")\n",
    "    print(\"enter 'q' at any time to quit\")\n",
    "    \n",
    "    f_name = input(\"First name: \")\n",
    "    if f_name == 'q':\n",
    "        break\n",
    "    l_name = input(\"Last name: \")\n",
    "    if l_name == 'q':\n",
    "        break\n",
    "    formatted_name = get_formatted_name(f_name,l_name)\n",
    "    print(formatted_name)"
   ]
  },
  {
   "cell_type": "markdown",
   "metadata": {},
   "source": [
    "# <font color='green'>Passing a List</font>\n",
    "When we pass a list to a function, the function gets direct access to the contents of the list."
   ]
  },
  {
   "cell_type": "code",
   "execution_count": 3,
   "metadata": {},
   "outputs": [
    {
     "name": "stdout",
     "output_type": "stream",
     "text": [
      "Hello, Hannah!\n",
      "Hello, Edward!\n",
      "Hello, Margot!\n"
     ]
    }
   ],
   "source": [
    "def great_user(names):\n",
    "    \"\"\"Print a simple greeting to each user in the list\"\"\"\n",
    "    for name in names:\n",
    "        msg = \"Hello, \" + name.title() + \"!\"\n",
    "        print(msg)\n",
    "usernames = ['hannah','edward','margot']\n",
    "great_user(usernames)"
   ]
  },
  {
   "cell_type": "markdown",
   "metadata": {},
   "source": [
    "## Modifying a List in a Function\n",
    "When you pass a list to a function, the function can modify the list.\n",
    "The following code does this without using function"
   ]
  },
  {
   "cell_type": "code",
   "execution_count": 5,
   "metadata": {},
   "outputs": [
    {
     "name": "stdout",
     "output_type": "stream",
     "text": [
      "Printing model: samsung case\n",
      "Printing model: robot pendant\n",
      "Printing model: iphone case\n",
      "\n",
      "The following models have been printed: \n",
      "samsung case\n",
      "robot pendant\n",
      "iphone case\n"
     ]
    }
   ],
   "source": [
    "#Star with some design that need to be printed\n",
    "unprinted_design = ['iphone case','robot pendant', 'samsung case']\n",
    "completed_models = []\n",
    "\n",
    "#simulate printing each design, untile none are left\n",
    "#move each desing to completed_models after printing\n",
    "\n",
    "while unprinted_design:\n",
    "    current_design = unprinted_design.pop()\n",
    "    #Simulate creating a 3D design from th desing.\n",
    "    print(\"Printing model: \" + current_design)\n",
    "    completed_models.append(current_design)\n",
    "    \n",
    "#Display all completed models.\n",
    "print(\"\\nThe following models have been printed: \")\n",
    "for complete_model in completed_models:\n",
    "    print(complete_model)\n"
   ]
  },
  {
   "cell_type": "code",
   "execution_count": 7,
   "metadata": {},
   "outputs": [
    {
     "name": "stdout",
     "output_type": "stream",
     "text": [
      "Printing model: sony\n",
      "Printing model: sumsung\n",
      "Printing model: iphone\n",
      "\n",
      "The following models have been printed: \n",
      "sony\n",
      "sumsung\n",
      "iphone\n"
     ]
    }
   ],
   "source": [
    "def print_models(unprinted_designs, completed_models):\n",
    "    while unprinted_designs:\n",
    "        current_design= unprinted_designs.pop()\n",
    "        print(\"Printing model: \" + current_design)\n",
    "        complete_models.append(current_design)\n",
    "def show_completed_models(complete_models):\n",
    "    print(\"\\nThe following models have been printed: \")\n",
    "    for complete_model in complete_models:\n",
    "        print(complete_model)\n",
    "\n",
    "unprinted_designs = ['iphone','sumsung','sony']\n",
    "complete_models = []\n",
    "\n",
    "print_models(unprinted_designs,complete_models)\n",
    "show_completed_models(complete_models)"
   ]
  },
  {
   "cell_type": "markdown",
   "metadata": {},
   "source": [
    "### Exercise: 8.9"
   ]
  },
  {
   "cell_type": "code",
   "execution_count": 8,
   "metadata": {},
   "outputs": [
    {
     "name": "stdout",
     "output_type": "stream",
     "text": [
      "The name of the magicians are: \n",
      "edward\n",
      "michel\n",
      "tony\n"
     ]
    }
   ],
   "source": [
    "def show_magicians(names):\n",
    "    print(\"The name of the magicians are: \")\n",
    "    for name in names:\n",
    "        print(name)\n",
    "magicians_names = ['edward','michel','tony']\n",
    "show_magicians(magicians_names)"
   ]
  },
  {
   "cell_type": "markdown",
   "metadata": {},
   "source": [
    "### Exercise: 8.10"
   ]
  },
  {
   "cell_type": "code",
   "execution_count": 12,
   "metadata": {},
   "outputs": [
    {
     "name": "stdout",
     "output_type": "stream",
     "text": [
      "edward\n",
      "michel\n",
      "tony\n",
      "\n",
      "\n",
      "tony The Great\n",
      "michel The Great\n",
      "edward The Great\n"
     ]
    }
   ],
   "source": [
    "def show_magicians(magicians):\n",
    "    for magician in magicians:\n",
    "        print(magician)\n",
    "        \n",
    "def make_great(magicians):\n",
    "    great_magicians = []\n",
    "    while magicians:\n",
    "        magician= magicians.pop()\n",
    "        great_magician = magician + ' The Great'\n",
    "        great_magicians.append(great_magician)\n",
    "    for great_magician in great_magicians:\n",
    "        print(great_magician)\n",
    "        \n",
    "        \n",
    "    \n",
    "magicians = ['edward','michel','tony']\n",
    "show_magicians(magicians)\n",
    "\n",
    "print(\"\\n\")\n",
    "make_great(magicians)\n",
    "show_magicians(magicians)"
   ]
  },
  {
   "cell_type": "code",
   "execution_count": null,
   "metadata": {},
   "outputs": [],
   "source": []
  }
 ],
 "metadata": {
  "kernelspec": {
   "display_name": "Python 3",
   "language": "python",
   "name": "python3"
  },
  "language_info": {
   "codemirror_mode": {
    "name": "ipython",
    "version": 3
   },
   "file_extension": ".py",
   "mimetype": "text/x-python",
   "name": "python",
   "nbconvert_exporter": "python",
   "pygments_lexer": "ipython3",
   "version": "3.7.3"
  }
 },
 "nbformat": 4,
 "nbformat_minor": 2
}
