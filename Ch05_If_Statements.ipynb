{
 "cells": [
  {
   "cell_type": "markdown",
   "metadata": {},
   "source": [
    "# <font color='green'>If Statements</font>"
   ]
  },
  {
   "cell_type": "markdown",
   "metadata": {},
   "source": [
    "## Simple example"
   ]
  },
  {
   "cell_type": "code",
   "execution_count": 13,
   "metadata": {},
   "outputs": [
    {
     "name": "stdout",
     "output_type": "stream",
     "text": [
      "Audi\n",
      "BMW\n",
      "Sadaru\n",
      "Toyota\n"
     ]
    }
   ],
   "source": [
    "cars = ['audi','bmw','sadaru','toyota']\n",
    "for car in cars:\n",
    "    if car == 'bmw':\n",
    "        print(car.upper())\n",
    "    else:\n",
    "        print(car.title())"
   ]
  },
  {
   "cell_type": "code",
   "execution_count": 1,
   "metadata": {},
   "outputs": [
    {
     "name": "stdout",
     "output_type": "stream",
     "text": [
      "Sorry, you are too young to vote.\n",
      "Please register to as soon as yo can turn 18!\n"
     ]
    }
   ],
   "source": [
    "age = 12\n",
    "if age >= 18:\n",
    "    print(\"You are old enough to vote\")\n",
    "    print(\"Have you register to vote yet!\")\n",
    "else:\n",
    "    print(\"Sorry, you are too young to vote.\")\n",
    "    print(\"Please register to as soon as yo can turn 18!\")"
   ]
  },
  {
   "cell_type": "markdown",
   "metadata": {},
   "source": [
    "## The if-elif-else"
   ]
  },
  {
   "cell_type": "code",
   "execution_count": 2,
   "metadata": {},
   "outputs": [
    {
     "name": "stdout",
     "output_type": "stream",
     "text": [
      "Your admission cost is $5\n"
     ]
    }
   ],
   "source": [
    "age = 12\n",
    "if age < 4:\n",
    "    print(\"Your admission cost is $0\")\n",
    "elif age < 18:\n",
    "    print(\"Your admission cost is $5\")\n",
    "else:\n",
    "    print(\"Your admission cost is $10\")\n",
    "    "
   ]
  },
  {
   "cell_type": "markdown",
   "metadata": {},
   "source": [
    "## Using Multiple elif Blocks"
   ]
  },
  {
   "cell_type": "code",
   "execution_count": 3,
   "metadata": {},
   "outputs": [
    {
     "name": "stdout",
     "output_type": "stream",
     "text": [
      "Your admission cost is 5.\n"
     ]
    }
   ],
   "source": [
    "age = 12\n",
    "if age < 4:\n",
    "    price = 0\n",
    "elif age < 18:\n",
    "    price = 5\n",
    "elif age < 65:\n",
    "    price = 10\n",
    "else:\n",
    "    price = 5\n",
    "    \n",
    "print(\"Your admission cost is \" + str(price) + \".\")"
   ]
  },
  {
   "cell_type": "markdown",
   "metadata": {},
   "source": [
    "## Testing Multiple Conditions"
   ]
  },
  {
   "cell_type": "code",
   "execution_count": 4,
   "metadata": {},
   "outputs": [
    {
     "name": "stdout",
     "output_type": "stream",
     "text": [
      "Adding mashrooms\n",
      "Adding extra cheese\n",
      "\n",
      "Finished making your pizza!\n"
     ]
    }
   ],
   "source": [
    "#topiing\n",
    "\n",
    "requested_topping = ['mashrooms','extra cheese']\n",
    "if 'mashrooms' in requested_topping:\n",
    "    print('Adding mashrooms')\n",
    "if 'extra cheese' in requested_topping:\n",
    "    print('Adding extra cheese')\n",
    "if 'pepparoni' in requested_topping:\n",
    "    print('Adding pepparoni')\n",
    "print('\\nFinished making your pizza!')\n"
   ]
  },
  {
   "cell_type": "markdown",
   "metadata": {},
   "source": [
    "# <font color='red'>TRY IT YOURSELF</font>"
   ]
  },
  {
   "cell_type": "markdown",
   "metadata": {},
   "source": [
    "### Exercise: 5.3"
   ]
  },
  {
   "cell_type": "code",
   "execution_count": 25,
   "metadata": {},
   "outputs": [
    {
     "name": "stdout",
     "output_type": "stream",
     "text": [
      "The player just earned 5 points\n"
     ]
    }
   ],
   "source": [
    "#Alien colors\n",
    "\n",
    "color = ['green','red','yellow']\n",
    "for alien_color in color:\n",
    "    if alien_color == 'green':\n",
    "        print('The player just earned 5 points')"
   ]
  },
  {
   "cell_type": "markdown",
   "metadata": {},
   "source": [
    "### Exercise: 5.4"
   ]
  },
  {
   "cell_type": "code",
   "execution_count": 20,
   "metadata": {},
   "outputs": [
    {
     "name": "stdout",
     "output_type": "stream",
     "text": [
      "The player just earned 10 points\n"
     ]
    }
   ],
   "source": [
    "alien_color = 'red'\n",
    "if alien_color == 'green':\n",
    "    print('The player just earned 5 points')\n",
    "else:\n",
    "    print('The player just earned 10 points')"
   ]
  },
  {
   "cell_type": "markdown",
   "metadata": {},
   "source": [
    "### Exercise:5.5"
   ]
  },
  {
   "cell_type": "code",
   "execution_count": 21,
   "metadata": {},
   "outputs": [
    {
     "name": "stdout",
     "output_type": "stream",
     "text": [
      "The player just earned 15 points\n"
     ]
    }
   ],
   "source": [
    "alien_color = 'red'\n",
    "if alien_color == 'green':\n",
    "    print('The player just earned 5 points')\n",
    "elif alien_color == 'yellow':\n",
    "    print('The player just earned 10 points')\n",
    "else:\n",
    "    print('The player just earned 15 points')\n",
    "    "
   ]
  },
  {
   "cell_type": "markdown",
   "metadata": {},
   "source": [
    "# <font color='green'>Using if Statements with Lists</font>"
   ]
  },
  {
   "cell_type": "markdown",
   "metadata": {},
   "source": [
    "## Checking for Special items"
   ]
  },
  {
   "cell_type": "code",
   "execution_count": 3,
   "metadata": {},
   "outputs": [
    {
     "name": "stdout",
     "output_type": "stream",
     "text": [
      "Addingmashrooms.\n",
      "Addingextra cheese.\n",
      "Addingpeppers.\n",
      "\n",
      "Finished making pizza\n"
     ]
    }
   ],
   "source": [
    "requested_toppings = ['mashrooms','extra cheese','peppers']\n",
    "for requested_topping in requested_toppings:\n",
    "    print(\"Adding\" + requested_topping + \".\")\n",
    "print(\"\\nFinished making pizza\")"
   ]
  },
  {
   "cell_type": "code",
   "execution_count": 5,
   "metadata": {},
   "outputs": [
    {
     "name": "stdout",
     "output_type": "stream",
     "text": [
      "Adding mashrooms.\n",
      "Adding extra cheese.\n",
      "Sorry, we are now out of peppers right now.\n",
      "\n",
      "Finished making pizza\n"
     ]
    }
   ],
   "source": [
    "requested_toppings = ['mashrooms','extra cheese','peppers']\n",
    "for requested_topping in requested_toppings:\n",
    "    if requested_topping == 'peppers':\n",
    "        print('Sorry, we are now out of peppers right now.')\n",
    "    else:\n",
    "        print(\"Adding \" + requested_topping + \".\")\n",
    "print(\"\\nFinished making pizza\")"
   ]
  },
  {
   "cell_type": "markdown",
   "metadata": {},
   "source": [
    "## Checking That a List Is Not Empty"
   ]
  },
  {
   "cell_type": "code",
   "execution_count": 7,
   "metadata": {},
   "outputs": [
    {
     "name": "stdout",
     "output_type": "stream",
     "text": [
      "Are you want a plain pizza?\n"
     ]
    }
   ],
   "source": [
    "requested_toppings = []\n",
    "\n",
    "if requested_toppings: #When the name of a list is used in an if statement, \n",
    "                       #Python retures True if the list contains atleast one item;an empty list evaluates False\n",
    "        \n",
    "    for requested_topping in requested_toppings:\n",
    "        print(\"Adding\" + requested_topping + \".\")\n",
    "    print(\"\\nFinished making your pizza\")\n",
    "else:\n",
    "    print(\"Are you want a plain pizza?\")\n",
    "    "
   ]
  },
  {
   "cell_type": "markdown",
   "metadata": {},
   "source": [
    "## Using Multiple Lists"
   ]
  },
  {
   "cell_type": "code",
   "execution_count": 11,
   "metadata": {},
   "outputs": [
    {
     "name": "stdout",
     "output_type": "stream",
     "text": [
      "Adding mushrooms.\n",
      "Adding olives.\n",
      "Adding onion.\n",
      "Sorry, we don't havefrench fries.\n",
      "\n",
      "Finised making pizza!\n"
     ]
    }
   ],
   "source": [
    "available_toppings = ['mushrooms','olives','green peppers','pepperoni','pineapple','extra cheese','onion']\n",
    "\n",
    "requested_toppings = ['mushrooms','olives','onion','french fries']\n",
    "\n",
    "## We loop through the list of requested toopings. Inside the loop, \n",
    "## we first check to see if each requested topping is actually in the list of available toppings.\n",
    "\n",
    "for requested_topping in requested_toppings:\n",
    "    if requested_topping in available_toppings:\n",
    "        print(\"Adding \" + requested_topping + '.')\n",
    "    else:\n",
    "        print(\"Sorry, we don't have\" + requested_topping + \".\")\n",
    "print(\"\\nFinised making pizza!\")"
   ]
  },
  {
   "cell_type": "markdown",
   "metadata": {},
   "source": [
    "# <font color='red'>TRY IT YOURSELF</font>"
   ]
  },
  {
   "cell_type": "markdown",
   "metadata": {},
   "source": [
    "### Exercise: 5.8"
   ]
  },
  {
   "cell_type": "code",
   "execution_count": 18,
   "metadata": {},
   "outputs": [
    {
     "name": "stdout",
     "output_type": "stream",
     "text": [
      "Hello Admin, would you like to see a status report?\n",
      "Hello Farhad thank you for logging in again\n",
      "Hello Tanveer thank you for logging in again\n",
      "Hello Taiveer thank you for logging in again\n"
     ]
    }
   ],
   "source": [
    "#Hello Admin\n",
    "\n",
    "names = ['admin','farhad','tanveer','taiveer']\n",
    "\n",
    "for name in names:\n",
    "    if name == 'admin':\n",
    "        print(\"Hello \" + name.title() + \", would you like to see a status report?\")\n",
    "    else:\n",
    "        print(\"Hello \" + name.title() + \" thank you for logging in again\")"
   ]
  },
  {
   "cell_type": "markdown",
   "metadata": {},
   "source": [
    "### Eercise: 5.9"
   ]
  },
  {
   "cell_type": "code",
   "execution_count": 31,
   "metadata": {},
   "outputs": [
    {
     "name": "stdout",
     "output_type": "stream",
     "text": [
      "We need to find some users\n"
     ]
    }
   ],
   "source": [
    "#No Users\n",
    "\n",
    "names = []\n",
    "\n",
    "if names:\n",
    "    for name in names:\n",
    "        print(\"Hello\")\n",
    "else:\n",
    "    print(\"We need to find some users\")"
   ]
  },
  {
   "cell_type": "markdown",
   "metadata": {},
   "source": [
    "### Exercise: 5.10"
   ]
  },
  {
   "cell_type": "code",
   "execution_count": 33,
   "metadata": {},
   "outputs": [
    {
     "name": "stdout",
     "output_type": "stream",
     "text": [
      "The username montu available\n",
      "The username pontu available\n",
      "You will need to enter a new username\n",
      "You will need to enter a new username\n",
      "The username jhontu available\n"
     ]
    }
   ],
   "source": [
    "#Checking Usernames\n",
    "\n",
    "current_users = ['farhad','tanveer','cavin','petter','stark']\n",
    "new_users = ['montu','pontu','Stark','cavin','jhontu']\n",
    "\n",
    "current_users_lower = [user.lower() for user in current_users]\n",
    "\n",
    "for new_user in new_users:\n",
    "    if new_user.lower() in current_users_lower:\n",
    "        print(\"You will need to enter a new username\")\n",
    "    else:\n",
    "        print(\"The username \" + new_user + \" available\")\n"
   ]
  },
  {
   "cell_type": "markdown",
   "metadata": {},
   "source": [
    "### Eercise: 5.11"
   ]
  },
  {
   "cell_type": "code",
   "execution_count": 32,
   "metadata": {},
   "outputs": [
    {
     "name": "stdout",
     "output_type": "stream",
     "text": [
      "1st\n",
      "2nd\n",
      "3rd\n",
      "4th\n",
      "5th\n",
      "6th\n",
      "7th\n",
      "8th\n",
      "9th\n"
     ]
    }
   ],
   "source": [
    "#Ordinal Numbers\n",
    "\n",
    "numbers = list(range(1,10))\n",
    "\n",
    "for number in numbers:\n",
    "    if number == 1:\n",
    "        print(\"1st\")\n",
    "    elif number == 2:\n",
    "        print(\"2nd\")\n",
    "    elif number == 3:\n",
    "        print(\"3rd\")\n",
    "    else:\n",
    "        print(str(number) + \"th\")"
   ]
  },
  {
   "cell_type": "code",
   "execution_count": null,
   "metadata": {},
   "outputs": [],
   "source": []
  }
 ],
 "metadata": {
  "kernelspec": {
   "display_name": "Python 3",
   "language": "python",
   "name": "python3"
  },
  "language_info": {
   "codemirror_mode": {
    "name": "ipython",
    "version": 3
   },
   "file_extension": ".py",
   "mimetype": "text/x-python",
   "name": "python",
   "nbconvert_exporter": "python",
   "pygments_lexer": "ipython3",
   "version": "3.7.3"
  }
 },
 "nbformat": 4,
 "nbformat_minor": 2
}
